{
 "cells": [
  {
   "cell_type": "markdown",
   "id": "348afa0c-d840-4d12-aad9-15c1975eacf2",
   "metadata": {},
   "source": [
    "Problem 1: Bank Account Create a class representing a bank account with attributes like account number, account holder name, and balance. Implement methods to deposit and withdraw money from the account."
   ]
  },
  {
   "cell_type": "code",
   "execution_count": 33,
   "id": "9c05c6bd-7603-4b0c-94e6-a9b25e381e57",
   "metadata": {},
   "outputs": [],
   "source": [
    "class BankAccount:\n",
    "    def __init__(self,acc_no, acc_name):\n",
    "        self.acc_no = acc_no\n",
    "        self.acc_name = acc_name\n",
    "        self.balance = 0\n",
    "    def deposit(self,amount1):\n",
    "        if amount1 > 0:\n",
    "            self.balance += amount1\n",
    "            return f\"{amount1} deposited successfully\"\n",
    "        else:\n",
    "            return \"Invalid Amount\"\n",
    "    def withdrawl(self,amount2):\n",
    "        if amount2 <=0:\n",
    "            return \"Invalid withdrawal amount.\"\n",
    "        elif amount2 > self.balance:\n",
    "            return \"Insufficient Balance\"\n",
    "        else:\n",
    "            return f\"{amount2} withdrawn successfully\"\n",
    "            self.balance = self.balance - amount2\n",
    "    def check_balance(self):\n",
    "        return self.balance\n",
    "            "
   ]
  },
  {
   "cell_type": "code",
   "execution_count": 34,
   "id": "7c01d23e-beff-4dbf-b62b-ad7a9480fc4a",
   "metadata": {},
   "outputs": [],
   "source": [
    "account1 = BankAccount(1111,'saikumar')"
   ]
  },
  {
   "cell_type": "code",
   "execution_count": 35,
   "id": "dadd07bf-26d2-4af8-bb30-beec7f4e9f19",
   "metadata": {},
   "outputs": [
    {
     "data": {
      "text/plain": [
       "'saikumar'"
      ]
     },
     "execution_count": 35,
     "metadata": {},
     "output_type": "execute_result"
    }
   ],
   "source": [
    "account1.acc_name"
   ]
  },
  {
   "cell_type": "code",
   "execution_count": 36,
   "id": "4869dc3c-b499-4bd6-9c08-64bb5b800804",
   "metadata": {},
   "outputs": [
    {
     "data": {
      "text/plain": [
       "0"
      ]
     },
     "execution_count": 36,
     "metadata": {},
     "output_type": "execute_result"
    }
   ],
   "source": [
    "account1.balance"
   ]
  },
  {
   "cell_type": "code",
   "execution_count": 37,
   "id": "a6a658ae-a36e-4950-9761-bcfe1ceeaedb",
   "metadata": {},
   "outputs": [
    {
     "data": {
      "text/plain": [
       "0"
      ]
     },
     "execution_count": 37,
     "metadata": {},
     "output_type": "execute_result"
    }
   ],
   "source": [
    "account1.check_balance()"
   ]
  },
  {
   "cell_type": "code",
   "execution_count": 38,
   "id": "6c6c8412-a052-40fa-8ac6-7644e7151cbf",
   "metadata": {},
   "outputs": [
    {
     "data": {
      "text/plain": [
       "'10000 deposited successfully'"
      ]
     },
     "execution_count": 38,
     "metadata": {},
     "output_type": "execute_result"
    }
   ],
   "source": [
    "account1.deposit(10000)"
   ]
  },
  {
   "cell_type": "code",
   "execution_count": 39,
   "id": "347d75cb-8ea6-4b86-8298-46fb790133b7",
   "metadata": {},
   "outputs": [
    {
     "data": {
      "text/plain": [
       "10000"
      ]
     },
     "execution_count": 39,
     "metadata": {},
     "output_type": "execute_result"
    }
   ],
   "source": [
    "account1.balance"
   ]
  },
  {
   "cell_type": "markdown",
   "id": "c8109550-f94b-48a8-ac34-6c4c533a5f94",
   "metadata": {},
   "source": [
    "Problem 2: Employee Management Create a class representing an employee with attributes like employee ID, name, and salary. Implement methods to calculate the yearly bonus and display employee details"
   ]
  },
  {
   "cell_type": "code",
   "execution_count": 47,
   "id": "5856f1dc-564e-48ce-85e6-3041f8736ca7",
   "metadata": {},
   "outputs": [],
   "source": [
    "class Emp_Mgmt:\n",
    "    \n",
    "    def __init__(self,Emp_ID,Emp_Name,Emp_Salary):\n",
    "        \n",
    "        self.Emp_ID = Emp_ID\n",
    "        self.Emp_Name = Emp_Name\n",
    "        self.Emp_Salary = Emp_Salary\n",
    "    \n",
    "    def Emp_Bonus(self):\n",
    "        if self.Emp_Salary > 1000000:\n",
    "            yearly_bonus = 0.10 * self.Emp_Salary\n",
    "            return yearly_bonus\n",
    "        elif self.Emp_Salary > 500000:\n",
    "            yearly_bonus = 0.08 * self.Emp_Salary\n",
    "            return yearly_bonus\n",
    "        else:\n",
    "            yearly_bonus = 0.05 * self.Emp_Salary\n",
    "            return yearly_bonus\n",
    "    \n",
    "    def Emp_details(self):\n",
    "        bonus = self.Emp_Bonus()\n",
    "        return self.Emp_ID, self.Emp_Name, self.Emp_Salary,bonus\n",
    "        "
   ]
  },
  {
   "cell_type": "code",
   "execution_count": 48,
   "id": "6940f3d1-f598-4089-8a65-455b4e1804ea",
   "metadata": {},
   "outputs": [],
   "source": [
    "empl = Emp_Mgmt(11100202,'SaiKumar',100000)"
   ]
  },
  {
   "cell_type": "code",
   "execution_count": 49,
   "id": "854ea120-faff-4daa-a78a-4c90d42436b2",
   "metadata": {},
   "outputs": [
    {
     "data": {
      "text/plain": [
       "100000"
      ]
     },
     "execution_count": 49,
     "metadata": {},
     "output_type": "execute_result"
    }
   ],
   "source": [
    "empl.Emp_Salary"
   ]
  },
  {
   "cell_type": "code",
   "execution_count": 50,
   "id": "bfe5033c-9a72-437e-830a-75c570970f17",
   "metadata": {},
   "outputs": [
    {
     "data": {
      "text/plain": [
       "5000.0"
      ]
     },
     "execution_count": 50,
     "metadata": {},
     "output_type": "execute_result"
    }
   ],
   "source": [
    "empl.Emp_Bonus()"
   ]
  },
  {
   "cell_type": "code",
   "execution_count": 51,
   "id": "044e33b4-5e2e-4364-a8df-db37ea5fc60f",
   "metadata": {},
   "outputs": [
    {
     "data": {
      "text/plain": [
       "(11100202, 'SaiKumar', 100000, 5000.0)"
      ]
     },
     "execution_count": 51,
     "metadata": {},
     "output_type": "execute_result"
    }
   ],
   "source": [
    "empl.Emp_details()"
   ]
  },
  {
   "cell_type": "markdown",
   "id": "b7bb33c2-0de5-4d44-8640-03fa77ddfb56",
   "metadata": {},
   "source": [
    "Problem 3: Vehicle Rental Create a class representing a vehicle rental system. Implement methods to rent a vehicle, return a vehicle, and display available vehicles."
   ]
  },
  {
   "cell_type": "code",
   "execution_count": 3,
   "id": "721f2e0b-6700-49e6-94fe-4554ea18f1ff",
   "metadata": {},
   "outputs": [],
   "source": [
    "class Vehicle_Rental:\n",
    "    \n",
    "    def __init__(self):\n",
    "        self.available_vehicles = {\n",
    "            'car':10,\n",
    "            'bike':20,\n",
    "            'scooter':30\n",
    "        }\n",
    "        self.rented_vehicles = {\n",
    "            'car':0,\n",
    "            'bike':0,\n",
    "            'scooter':0,\n",
    "        }\n",
    "        \n",
    "    def rent_vehicle(self, vehicle_type, num_rented):\n",
    "        \n",
    "        if vehicle_type in self.available_vehicles and num_rented > 0:\n",
    "            \n",
    "            if self.available_vehicles[vehicle_type] >= num_rented:\n",
    "                self.available_vehicles[vehicle_type] -= num_rented\n",
    "                self.rented_vehicles[vehicle_type] += num_rented\n",
    "                return f\"Rented {num_rented} {vehicle_type}(s)\"\n",
    "            else:\n",
    "                return f\"no suffienct vehicles\"\n",
    "        else:\n",
    "            return \"Invalid vehicle type or number to rent.\"\n",
    "        \n",
    "    \n",
    "    def return_vehicle(self, vehicle_type, num_returned):\n",
    "        if vehicle_type in self.rented_vehicles and num_returned > 0:\n",
    "            if self.rented_vehicles[vehicle_type] >= num_returned:\n",
    "                self.available_vehicles[vehicle_type] += num_returned\n",
    "                self.rented_vehicles[vehicle_type] -= num_returned\n",
    "                return f\"Returned {num_returned} {vehicle_type}(s).\"\n",
    "            else:\n",
    "                return f\"Invalid number of {vehicle_type}(s) to return.\"\n",
    "        else:\n",
    "            return \"Invalid vehicle type or number to return.\"\n",
    "\n",
    "    def display_available_vehicles(self):\n",
    "        return self.available_vehicles"
   ]
  },
  {
   "cell_type": "markdown",
   "id": "d6f0ba48-da3b-478b-ab4e-ffd51113c7eb",
   "metadata": {},
   "source": [
    "Problem 4: Library Catalog Create classes representing a library and a book. Implement methods to add books to the library, borrow books, and display available books."
   ]
  },
  {
   "cell_type": "markdown",
   "id": "38f8a3c7-0549-4d20-8d97-e6b3e422e7bc",
   "metadata": {},
   "source": [
    "Product Inventory Create classes representing a product and an inventory system. Implement methods to add products to the inventory, update product quantity, and display available products."
   ]
  },
  {
   "cell_type": "code",
   "execution_count": 4,
   "id": "2ed921da-4ae5-449f-97b9-af79672c9921",
   "metadata": {},
   "outputs": [],
   "source": [
    "class Product:\n",
    "    def __init__(self, product_id, name, price, quantity):\n",
    "        self.product_id = product_id\n",
    "        self.name = name\n",
    "        self.price = price\n",
    "        self.quantity = quantity\n",
    "\n",
    "    def __str__(self):\n",
    "        return f\"Product ID: {self.product_id}, Name: {self.name}, Price: ${self.price}, Quantity: {self.quantity}\"\n",
    "\n",
    "class Inventory:\n",
    "    def __init__(self):\n",
    "        self.products = {}\n",
    "\n",
    "    def add_product(self, product):\n",
    "        if isinstance(product, Product):\n",
    "            if product.product_id not in self.products:\n",
    "                self.products[product.product_id] = product\n",
    "                return f\"Added {product.name} to the inventory.\"\n",
    "            else:\n",
    "                return f\"{product.name} is already in the inventory.\"\n",
    "        else:\n",
    "            return \"Invalid product object.\"\n",
    "\n",
    "    def update_quantity(self, product_id, new_quantity):\n",
    "        if product_id in self.products:\n",
    "            product = self.products[product_id]\n",
    "            product.quantity = new_quantity\n",
    "            return f\"Updated quantity for {product.name} to {new_quantity}.\"\n",
    "        else:\n",
    "            return f\"Product with ID {product_id} is not in the inventory.\"\n",
    "\n",
    "    def display_available_products(self):\n",
    "        available_products = [str(product) for product in self.products.values() if product.quantity > 0]\n",
    "        return \"Available products:\\n\" + \"\\n\".join(available_products) if available_products else \"No products are currently available.\"\n"
   ]
  },
  {
   "cell_type": "markdown",
   "id": "318ad0fc-9e94-4e28-897f-5fc825220d9b",
   "metadata": {},
   "source": [
    "Shape Calculation Create a class representing a shape with attributes like length, width, and height. Implement methods to calculate the area and perimeter of the shape."
   ]
  },
  {
   "cell_type": "code",
   "execution_count": 5,
   "id": "68d9fed4-c2c3-4a47-b4aa-25009da22e8e",
   "metadata": {},
   "outputs": [],
   "source": [
    "class shape_calculation:\n",
    "    \n",
    "    def __init__(self,length=0,width=0,height=0):\n",
    "        \n",
    "        self.length = length\n",
    "        self.width = width\n",
    "        self.height = height\n",
    "        \n",
    "    def cal_area(self):\n",
    "        pass\n",
    "    def cal_perimeter(self):\n",
    "        pass\n",
    "    \n",
    "class rectangle(shape_calculation):\n",
    "    \n",
    "    def cal_area(self):\n",
    "        return self.length * self.width\n",
    "        \n",
    "    def cal_perimeter(self):\n",
    "        return 2*(self.length + self.width)\n",
    "    \n",
    "class triangle(shape_calculation):\n",
    "    def cal_area(self):\n",
    "        return 0.5 * self.length * self.height\n",
    "        \n",
    "    def cal_perimeter(self):\n",
    "        return self.length + self.width + self.height"
   ]
  },
  {
   "cell_type": "code",
   "execution_count": 7,
   "id": "48aef271-eab1-4071-9a37-4aafde119472",
   "metadata": {},
   "outputs": [],
   "source": [
    "rect_area = rectangle(4,5)"
   ]
  },
  {
   "cell_type": "code",
   "execution_count": 8,
   "id": "eeafdd98-da65-4a2c-9232-35ae72ec7617",
   "metadata": {},
   "outputs": [
    {
     "data": {
      "text/plain": [
       "20"
      ]
     },
     "execution_count": 8,
     "metadata": {},
     "output_type": "execute_result"
    }
   ],
   "source": [
    "rect_area.cal_area()"
   ]
  },
  {
   "cell_type": "code",
   "execution_count": 9,
   "id": "88f404f1-89a5-4f50-a5b0-0eeaf87e1194",
   "metadata": {},
   "outputs": [
    {
     "data": {
      "text/plain": [
       "18"
      ]
     },
     "execution_count": 9,
     "metadata": {},
     "output_type": "execute_result"
    }
   ],
   "source": [
    "rect_area.cal_perimeter()"
   ]
  },
  {
   "cell_type": "markdown",
   "id": "53151f6f-b9c3-49f7-910d-70b775df8287",
   "metadata": {},
   "source": [
    "Student Management Create a class representing a student with attributes like student ID, name, and grades. Implement methods to calculate the average grade and display student details"
   ]
  },
  {
   "cell_type": "code",
   "execution_count": 2,
   "id": "4f2eafc1-aadb-4239-a984-ee4c93d5bcca",
   "metadata": {},
   "outputs": [
    {
     "name": "stdout",
     "output_type": "stream",
     "text": [
      "Student ID: 1\n",
      "Name: Sai\n",
      "Grades: 85, 90, 78, 92, 88\n",
      "Average Grade: 86.6\n",
      "\n",
      "\n",
      "Student ID: 2\n",
      "Name: Kumar\n",
      "Grades: 76, 80, 92, 88, 90\n",
      "Average Grade: 85.2\n"
     ]
    }
   ],
   "source": [
    "class Student:\n",
    "    def __init__(self, student_id, name, grades):\n",
    "        self.student_id = student_id\n",
    "        self.name = name\n",
    "        self.grades = grades\n",
    "\n",
    "    def calculate_average_grade(self):\n",
    "        if not self.grades:\n",
    "            return 0  # To avoid division by zero if grades list is empty\n",
    "        return sum(self.grades) / len(self.grades)\n",
    "\n",
    "    def display_student_details(self):\n",
    "        print(f\"Student ID: {self.student_id}\")\n",
    "        print(f\"Name: {self.name}\")\n",
    "        print(\"Grades:\", \", \".join(map(str, self.grades)))\n",
    "        print(f\"Average Grade: {self.calculate_average_grade()}\")\n",
    "\n",
    "# Example usage:\n",
    "student1 = Student(1, \"Sai\", [85, 90, 78, 92, 88])\n",
    "student2 = Student(2, \"Kumar\", [76, 80, 92, 88, 90])\n",
    "\n",
    "student1.display_student_details()\n",
    "print(\"\\n\")\n",
    "student2.display_student_details()\n"
   ]
  },
  {
   "cell_type": "code",
   "execution_count": 3,
   "id": "8a82576d-9633-4533-a608-ac57880ff164",
   "metadata": {},
   "outputs": [
    {
     "name": "stdout",
     "output_type": "stream",
     "text": [
      "Email Details:\n",
      "Sender: john@example.com\n",
      "Recipient: jane@example.com\n",
      "Subject: Meeting Tomorrow\n",
      "Status: Not Sent\n",
      "Email sent from john@example.com to jane@example.com with subject: 'Meeting Tomorrow'\n",
      "Email Details:\n",
      "Sender: john@example.com\n",
      "Recipient: jane@example.com\n",
      "Subject: Meeting Tomorrow\n",
      "Status: Sent\n",
      "\n",
      "\n",
      "Email Details:\n",
      "Sender: alice@example.com\n",
      "Recipient: bob@example.com\n",
      "Subject: Project Update\n",
      "Status: Not Sent\n",
      "Email sent from alice@example.com to bob@example.com with subject: 'Project Update'\n",
      "Email Details:\n",
      "Sender: alice@example.com\n",
      "Recipient: bob@example.com\n",
      "Subject: Project Update\n",
      "Status: Sent\n"
     ]
    }
   ],
   "source": [
    "class Email:\n",
    "    def __init__(self, sender, recipient, subject):\n",
    "        self.sender = sender\n",
    "        self.recipient = recipient\n",
    "        self.subject = subject\n",
    "        self.is_sent = False\n",
    "\n",
    "    def send_email(self):\n",
    "        # Simulate sending an email (you can add actual email sending logic here)\n",
    "        print(f\"Email sent from {self.sender} to {self.recipient} with subject: '{self.subject}'\")\n",
    "        self.is_sent = True\n",
    "\n",
    "    def display_email_details(self):\n",
    "        print(\"Email Details:\")\n",
    "        print(f\"Sender: {self.sender}\")\n",
    "        print(f\"Recipient: {self.recipient}\")\n",
    "        print(f\"Subject: {self.subject}\")\n",
    "        print(\"Status: Sent\" if self.is_sent else \"Status: Not Sent\")\n",
    "\n",
    "# Example usage:\n",
    "email1 = Email(\"john@example.com\", \"jane@example.com\", \"Meeting Tomorrow\")\n",
    "email2 = Email(\"alice@example.com\", \"bob@example.com\", \"Project Update\")\n",
    "\n",
    "email1.display_email_details()\n",
    "email1.send_email()\n",
    "email1.display_email_details()\n",
    "\n",
    "print(\"\\n\")\n",
    "\n",
    "email2.display_email_details()\n",
    "email2.send_email()\n",
    "email2.display_email_details()\n"
   ]
  },
  {
   "cell_type": "markdown",
   "id": "f1df4b72-f126-4e87-ba0a-75f2281d0468",
   "metadata": {},
   "source": [
    "Social Media Profile Create a class representing a social media profile with attributes like username and posts. Implement methods to add posts, display posts, and search for posts by keyword"
   ]
  },
  {
   "cell_type": "code",
   "execution_count": 5,
   "id": "4a85f5b4-232c-4c1b-9964-4c176b0ca64a",
   "metadata": {},
   "outputs": [
    {
     "name": "stdout",
     "output_type": "stream",
     "text": [
      "New post added by user123\n",
      "New post added by user123\n",
      "New post added by coolUser\n",
      "New post added by coolUser\n",
      "\n",
      "Displaying Posts:\n",
      "Posts by user123:\n",
      "1. Hello, everyone! #FirstPost #Excited\n",
      "2. Just enjoying a sunny day. #Relaxing\n",
      "Posts by coolUser:\n",
      "1. Coding is fun! #Programming #Python\n",
      "2. Traveling to new places. #Adventure\n",
      "\n",
      "Searching for 'coding':\n",
      "Posts containing 'coding':\n",
      "1. Coding is fun! #Programming #Python\n",
      "\n",
      "Searching for 'travel':\n",
      "No posts found containing 'travel'\n"
     ]
    }
   ],
   "source": [
    "class SocialMediaProfile:\n",
    "    def __init__(self, username):\n",
    "        self.username = username\n",
    "        self.posts = []\n",
    "\n",
    "    def add_post(self, post_content):\n",
    "        self.posts.append(post_content)\n",
    "        print(f\"New post added by {self.username}\")\n",
    "\n",
    "    def display_posts(self):\n",
    "        print(f\"Posts by {self.username}:\")\n",
    "        for index, post in enumerate(self.posts, start=1):\n",
    "            print(f\"{index}. {post}\")\n",
    "\n",
    "    def search_posts(self, keyword):\n",
    "        matching_posts = [post for post in self.posts if keyword.lower() in post.lower()]\n",
    "        if matching_posts:\n",
    "            print(f\"Posts containing '{keyword}':\")\n",
    "            for index, post in enumerate(matching_posts, start=1):\n",
    "                print(f\"{index}. {post}\")\n",
    "        else:\n",
    "            print(f\"No posts found containing '{keyword}'\")\n",
    "\n",
    "# Example usage:\n",
    "profile1 = SocialMediaProfile(\"user123\")\n",
    "profile1.add_post(\"Hello, everyone! #FirstPost #Excited\")\n",
    "profile1.add_post(\"Just enjoying a sunny day. #Relaxing\")\n",
    "\n",
    "profile2 = SocialMediaProfile(\"coolUser\")\n",
    "profile2.add_post(\"Coding is fun! #Programming #Python\")\n",
    "profile2.add_post(\"Traveling to new places. #Adventure\")\n",
    "\n",
    "print(\"\\nDisplaying Posts:\")\n",
    "profile1.display_posts()\n",
    "profile2.display_posts()\n",
    "\n",
    "print(\"\\nSearching for 'coding':\")\n",
    "profile2.search_posts(\"coding\")\n",
    "\n",
    "print(\"\\nSearching for 'travel':\")\n",
    "profile1.search_posts(\"travel\")\n"
   ]
  },
  {
   "cell_type": "markdown",
   "id": "6d164441-bdfe-4675-b6af-ccffc9934bf1",
   "metadata": {},
   "source": [
    "ToDo List Create a class representing a ToDo list with attributes like tasks and due dates. Implement methods to add tasks, mark tasks as completed, and display pending tasks.\""
   ]
  },
  {
   "cell_type": "code",
   "execution_count": 6,
   "id": "798ed376-8917-41e8-878e-cc1c27eb4257",
   "metadata": {},
   "outputs": [
    {
     "name": "stdout",
     "output_type": "stream",
     "text": [
      "Task 'Complete project' added with due date 2023-12-31\n",
      "Task 'Buy groceries' added with due date 2023-12-20\n",
      "Task 'Read a book' added with due date 2024-01-15\n",
      "\n",
      "Displaying Pending Tasks:\n",
      "Pending Tasks:\n",
      "Task: Complete project, Due Date: 2023-12-31\n",
      "Task: Buy groceries, Due Date: 2023-12-20\n",
      "Task: Read a book, Due Date: 2024-01-15\n",
      "\n",
      "Marking 'Complete project' as completed:\n",
      "Task 'Complete project' marked as completed.\n",
      "\n",
      "Displaying Updated Pending Tasks:\n",
      "Pending Tasks:\n",
      "Task: Buy groceries, Due Date: 2023-12-20\n",
      "Task: Read a book, Due Date: 2024-01-15\n",
      "\n",
      "Marking 'Non-existent Task' as completed:\n",
      "Task 'Non-existent Task' not found in the ToDo list.\n"
     ]
    }
   ],
   "source": [
    "class ToDoList:\n",
    "    def __init__(self):\n",
    "        self.tasks = {}\n",
    "\n",
    "    def add_task(self, task, due_date):\n",
    "        if task not in self.tasks:\n",
    "            self.tasks[task] = due_date\n",
    "            print(f\"Task '{task}' added with due date {due_date}\")\n",
    "        else:\n",
    "            print(f\"Task '{task}' already exists in the ToDo list.\")\n",
    "\n",
    "    def mark_task_completed(self, task):\n",
    "        if task in self.tasks:\n",
    "            del self.tasks[task]\n",
    "            print(f\"Task '{task}' marked as completed.\")\n",
    "        else:\n",
    "            print(f\"Task '{task}' not found in the ToDo list.\")\n",
    "\n",
    "    def display_pending_tasks(self):\n",
    "        if self.tasks:\n",
    "            print(\"Pending Tasks:\")\n",
    "            for task, due_date in self.tasks.items():\n",
    "                print(f\"Task: {task}, Due Date: {due_date}\")\n",
    "        else:\n",
    "            print(\"No pending tasks in the ToDo list.\")\n",
    "\n",
    "# Example usage:\n",
    "todo_list = ToDoList()\n",
    "todo_list.add_task(\"Complete project\", \"2023-12-31\")\n",
    "todo_list.add_task(\"Buy groceries\", \"2023-12-20\")\n",
    "todo_list.add_task(\"Read a book\", \"2024-01-15\")\n",
    "\n",
    "print(\"\\nDisplaying Pending Tasks:\")\n",
    "todo_list.display_pending_tasks()\n",
    "\n",
    "print(\"\\nMarking 'Complete project' as completed:\")\n",
    "todo_list.mark_task_completed(\"Complete project\")\n",
    "\n",
    "print(\"\\nDisplaying Updated Pending Tasks:\")\n",
    "todo_list.display_pending_tasks()\n",
    "\n",
    "print(\"\\nMarking 'Non-existent Task' as completed:\")\n",
    "todo_list.mark_task_completed(\"Non-existent Task\")\n"
   ]
  },
  {
   "cell_type": "code",
   "execution_count": null,
   "id": "98d94e74-817b-4fce-a5df-53d54de35527",
   "metadata": {},
   "outputs": [],
   "source": []
  }
 ],
 "metadata": {
  "kernelspec": {
   "display_name": "Python 3 (ipykernel)",
   "language": "python",
   "name": "python3"
  },
  "language_info": {
   "codemirror_mode": {
    "name": "ipython",
    "version": 3
   },
   "file_extension": ".py",
   "mimetype": "text/x-python",
   "name": "python",
   "nbconvert_exporter": "python",
   "pygments_lexer": "ipython3",
   "version": "3.10.8"
  }
 },
 "nbformat": 4,
 "nbformat_minor": 5
}
